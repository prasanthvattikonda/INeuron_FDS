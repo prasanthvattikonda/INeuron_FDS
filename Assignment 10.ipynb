{
 "cells": [
  {
   "cell_type": "markdown",
   "metadata": {},
   "source": [
    "### 1  How do you distinguish between shutil.copy() and shutil.copytree()?"
   ]
  },
  {
   "cell_type": "code",
   "execution_count": 1,
   "metadata": {},
   "outputs": [],
   "source": [
    "import shutil,os"
   ]
  },
  {
   "cell_type": "code",
   "execution_count": 2,
   "metadata": {},
   "outputs": [],
   "source": [
    "os.chdir('C:\\\\')"
   ]
  },
  {
   "cell_type": "code",
   "execution_count": 3,
   "metadata": {},
   "outputs": [
    {
     "data": {
      "text/plain": [
       "'C:\\\\'"
      ]
     },
     "execution_count": 3,
     "metadata": {},
     "output_type": "execute_result"
    }
   ],
   "source": [
    "pwd"
   ]
  },
  {
   "cell_type": "code",
   "execution_count": 5,
   "metadata": {},
   "outputs": [
    {
     "data": {
      "text/plain": [
       "'C:\\\\informatica\\\\input.csv'"
      ]
     },
     "execution_count": 5,
     "metadata": {},
     "output_type": "execute_result"
    }
   ],
   "source": [
    "shutil.copy('C:\\\\input.csv','C:\\\\informatica') #shutil copy will copy the file to existed folder "
   ]
  },
  {
   "cell_type": "code",
   "execution_count": 9,
   "metadata": {},
   "outputs": [
    {
     "data": {
      "text/plain": [
       "'C:\\\\BigdataResources1'"
      ]
     },
     "execution_count": 9,
     "metadata": {},
     "output_type": "execute_result"
    }
   ],
   "source": [
    "shutil.copytree(\"C:\\\\hadoop\",'C:\\\\BigdataResources') \n",
    "#shutil copy tree will copy the all the files availabe in existed folder to new folder "
   ]
  },
  {
   "cell_type": "code",
   "execution_count": null,
   "metadata": {},
   "outputs": [],
   "source": [
    "##2 What function is used to rename files?"
   ]
  },
  {
   "cell_type": "code",
   "execution_count": 10,
   "metadata": {},
   "outputs": [],
   "source": [
    "os.rename('C:\\\\informatica','C:\\\\informaticapowercenter')"
   ]
  },
  {
   "cell_type": "code",
   "execution_count": null,
   "metadata": {},
   "outputs": [],
   "source": [
    "rename is inbuilt function is used to raname the source file path to destination file (new file path name)"
   ]
  },
  {
   "cell_type": "markdown",
   "metadata": {},
   "source": [
    "### 3 What is the difference between the delete functions in the send2trash and shutil modules?"
   ]
  },
  {
   "cell_type": "code",
   "execution_count": null,
   "metadata": {},
   "outputs": [],
   "source": [
    "1. As we saw in first question, shutil module helps in pyhton to perform the high level operations with regards to removing , creating, adding files and folders \n",
    "2. send2trash is a package in python is only specifically to remove or delete the files "
   ]
  },
  {
   "cell_type": "code",
   "execution_count": 12,
   "metadata": {},
   "outputs": [],
   "source": [
    "import send2trash"
   ]
  },
  {
   "cell_type": "code",
   "execution_count": 13,
   "metadata": {},
   "outputs": [],
   "source": [
    "send2trash.send2trash(\"C:\\\\BigdataResources\")"
   ]
  },
  {
   "cell_type": "code",
   "execution_count": 16,
   "metadata": {},
   "outputs": [
    {
     "ename": "FileNotFoundError",
     "evalue": "[WinError 3] The system cannot find the path specified: 'C:\\\\BigdataResources'",
     "output_type": "error",
     "traceback": [
      "\u001b[1;31m---------------------------------------------------------------------------\u001b[0m",
      "\u001b[1;31mFileNotFoundError\u001b[0m                         Traceback (most recent call last)",
      "\u001b[1;32m<ipython-input-16-88129c8f1442>\u001b[0m in \u001b[0;36m<module>\u001b[1;34m\u001b[0m\n\u001b[1;32m----> 1\u001b[1;33m \u001b[0mshutil\u001b[0m\u001b[1;33m.\u001b[0m\u001b[0mcopytree\u001b[0m\u001b[1;33m(\u001b[0m\u001b[1;34m'C:\\\\BigdataResources'\u001b[0m\u001b[1;33m,\u001b[0m\u001b[1;34m'C:\\\\hadoop'\u001b[0m\u001b[1;33m)\u001b[0m\u001b[1;33m\u001b[0m\u001b[1;33m\u001b[0m\u001b[0m\n\u001b[0m",
      "\u001b[1;32m~\\.conda\\envs\\prasanth\\lib\\shutil.py\u001b[0m in \u001b[0;36mcopytree\u001b[1;34m(src, dst, symlinks, ignore, copy_function, ignore_dangling_symlinks)\u001b[0m\n\u001b[0;32m    316\u001b[0m \u001b[1;33m\u001b[0m\u001b[0m\n\u001b[0;32m    317\u001b[0m     \"\"\"\n\u001b[1;32m--> 318\u001b[1;33m     \u001b[0mnames\u001b[0m \u001b[1;33m=\u001b[0m \u001b[0mos\u001b[0m\u001b[1;33m.\u001b[0m\u001b[0mlistdir\u001b[0m\u001b[1;33m(\u001b[0m\u001b[0msrc\u001b[0m\u001b[1;33m)\u001b[0m\u001b[1;33m\u001b[0m\u001b[1;33m\u001b[0m\u001b[0m\n\u001b[0m\u001b[0;32m    319\u001b[0m     \u001b[1;32mif\u001b[0m \u001b[0mignore\u001b[0m \u001b[1;32mis\u001b[0m \u001b[1;32mnot\u001b[0m \u001b[1;32mNone\u001b[0m\u001b[1;33m:\u001b[0m\u001b[1;33m\u001b[0m\u001b[1;33m\u001b[0m\u001b[0m\n\u001b[0;32m    320\u001b[0m         \u001b[0mignored_names\u001b[0m \u001b[1;33m=\u001b[0m \u001b[0mignore\u001b[0m\u001b[1;33m(\u001b[0m\u001b[0msrc\u001b[0m\u001b[1;33m,\u001b[0m \u001b[0mnames\u001b[0m\u001b[1;33m)\u001b[0m\u001b[1;33m\u001b[0m\u001b[1;33m\u001b[0m\u001b[0m\n",
      "\u001b[1;31mFileNotFoundError\u001b[0m: [WinError 3] The system cannot find the path specified: 'C:\\\\BigdataResources'"
     ]
    }
   ],
   "source": [
    "shutil.copytree('C:\\\\BigdataResources','C:\\\\hadoop')"
   ]
  },
  {
   "cell_type": "markdown",
   "metadata": {},
   "source": [
    "### 4 ZipFile objects have a close() method just like File objects’ close() method. What ZipFile method is equivalent to File objects’ open() method"
   ]
  },
  {
   "cell_type": "code",
   "execution_count": 22,
   "metadata": {},
   "outputs": [],
   "source": [
    "import zipfile\n",
    "#ZipFile.open('prasanth', mode='r', pwd=None,force_zip64=False)"
   ]
  },
  {
   "cell_type": "code",
   "execution_count": 33,
   "metadata": {},
   "outputs": [],
   "source": [
    "os.getcwd()\n",
    "os.chdir('C:\\\\Users\\\\prasanth vattikonda\\\\Documents')"
   ]
  },
  {
   "cell_type": "code",
   "execution_count": 35,
   "metadata": {},
   "outputs": [],
   "source": [
    "m=zipfile.ZipFile('pras.zip','w')"
   ]
  },
  {
   "cell_type": "markdown",
   "metadata": {},
   "source": [
    "### 5 Create a programme that searches a folder tree for files with a certain file extension (such as .pdf or .jpg). Copy these files from whatever location they are in to a new folder."
   ]
  },
  {
   "cell_type": "code",
   "execution_count": 18,
   "metadata": {},
   "outputs": [],
   "source": [
    "import os,shutil"
   ]
  },
  {
   "cell_type": "code",
   "execution_count": 50,
   "metadata": {},
   "outputs": [
    {
     "name": "stdout",
     "output_type": "stream",
     "text": [
      "Assignment_1.docx  is copied to _tomyfolder\n",
      "Assignment_2.docx  is copied to _tomyfolder\n",
      "Assignment_3.docx  is copied to _tomyfolder\n",
      "Assignment_5.docx  is copied to _tomyfolder\n",
      "Assignment_6.docx  is copied to _tomyfolder\n",
      "Assignment_7.docx  is copied to _tomyfolder\n",
      "sample.txt  is copied to _tomyfolder\n",
      "sample1.txt  is copied to _tomyfolder\n",
      "folder name is C:\\Users\\prasanth vattikonda\\Documents\\INeuron\\\\.ipynb_checkpoints\n",
      "subfolders are []\n",
      "filemames are ['Assignment 10-checkpoint.ipynb', 'Assignment 2-checkpoint.ipynb', 'Assignment 3-checkpoint.ipynb', 'Assignment 4-checkpoint.ipynb', 'Assignment 5-checkpoint.ipynb', 'Assignment 6-checkpoint.ipynb', 'Assignment 7-checkpoint.ipynb', 'Assignment_9-checkpoint.ipynb', 'Untitled-checkpoint.ipynb', 'Untitled1-checkpoint.ipynb']\n"
     ]
    }
   ],
   "source": [
    "_folder = r'C:\\Users\\prasanth vattikonda\\Documents\\INeuron\\\\'\n",
    "_tomyfolder = r'C:\\Users\\prasanth vattikonda\\Documents\\Python Practice\\Ineuron Class\\\\'\n",
    "_extensions = ['.docx','.txt']\n",
    "for roots,dirs,files in os.walk(_folder):\n",
    "    for file in files:\n",
    "        filename,extension = os.path.splitext(file)\n",
    "        if extension in _extensions:\n",
    "            shutil.copy(file,_tomyfolder)\n",
    "            print(file,' is copied to _tomyfolder')\n",
    "print('folder name is',roots)\n",
    "print('subfolders are',dirs)\n",
    "print('filemames are',files)"
   ]
  }
 ],
 "metadata": {
  "kernelspec": {
   "display_name": "Python 3",
   "language": "python",
   "name": "python3"
  },
  "language_info": {
   "codemirror_mode": {
    "name": "ipython",
    "version": 3
   },
   "file_extension": ".py",
   "mimetype": "text/x-python",
   "name": "python",
   "nbconvert_exporter": "python",
   "pygments_lexer": "ipython3",
   "version": "3.7.4"
  }
 },
 "nbformat": 4,
 "nbformat_minor": 2
}

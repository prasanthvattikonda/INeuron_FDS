{
 "cells": [
  {
   "cell_type": "code",
   "execution_count": 189,
   "metadata": {},
   "outputs": [],
   "source": [
    "###1\n",
    "def len1(a):\n",
    "    \"\"\"This function return the length of the string only\"\"\"\n",
    "    if type(a)==str:\n",
    "        j=0\n",
    "        for i in a:\n",
    "            j=j+1\n",
    "        return(j)\n",
    "    else:\n",
    "        return('This is not string')"
   ]
  },
  {
   "cell_type": "code",
   "execution_count": 190,
   "metadata": {},
   "outputs": [
    {
     "data": {
      "text/plain": [
       "8"
      ]
     },
     "execution_count": 190,
     "metadata": {},
     "output_type": "execute_result"
    }
   ],
   "source": [
    "len1('prasanth')"
   ]
  },
  {
   "cell_type": "code",
   "execution_count": 75,
   "metadata": {},
   "outputs": [
    {
     "data": {
      "text/plain": [
       "'This is not string'"
      ]
     },
     "execution_count": 75,
     "metadata": {},
     "output_type": "execute_result"
    }
   ],
   "source": [
    "len(223)"
   ]
  },
  {
   "cell_type": "code",
   "execution_count": 162,
   "metadata": {},
   "outputs": [],
   "source": [
    "##3\n",
    "def doc(b):\n",
    "    \"\"\"This function will return the index of any premitive element be passed\"\"\"\n",
    "    if type(b)==dict:\n",
    "        for i in b:\n",
    "            print(i,b[i])\n",
    "    else:\n",
    "        for i in b:\n",
    "            print(b.index(i),i)"
   ]
  },
  {
   "cell_type": "code",
   "execution_count": 163,
   "metadata": {},
   "outputs": [
    {
     "name": "stdout",
     "output_type": "stream",
     "text": [
      "a aksms\n",
      "b skdmd\n"
     ]
    }
   ],
   "source": [
    "doc({'a':'aksms','b':'skdmd'})"
   ]
  },
  {
   "cell_type": "code",
   "execution_count": 161,
   "metadata": {},
   "outputs": [
    {
     "name": "stdout",
     "output_type": "stream",
     "text": [
      "0 aksmd\n",
      "1 3\n",
      "2 4\n",
      "3 5\n",
      "4 ajns\n"
     ]
    }
   ],
   "source": [
    "doc(('aksmd',3,4,5,'ajns'))"
   ]
  },
  {
   "cell_type": "code",
   "execution_count": 185,
   "metadata": {},
   "outputs": [],
   "source": [
    "c={'a':'akma','b':[1,2,3,4],'c':'akma','d':{'1':(1,2,3,4),'2':'akma','3':{'A':'ama','B':'aaaa'}}}"
   ]
  },
  {
   "cell_type": "code",
   "execution_count": 186,
   "metadata": {},
   "outputs": [],
   "source": [
    "###3\n",
    "def fun(c):\n",
    "    \"\"\"This function gives the values of any dictonary till 2nd level nesting\"\"\"\n",
    "    if type(c)==dict:\n",
    "        for i in c:\n",
    "            print(c[i])\n",
    "            if type(c[i])==dict:\n",
    "                for j in c[i]:\n",
    "                    print(c[i][j])\n",
    "                    if type(c[i][j])==dict:\n",
    "                        for k in c[i][j]:\n",
    "                            print(c[i][j][k])\n"
   ]
  },
  {
   "cell_type": "code",
   "execution_count": 187,
   "metadata": {},
   "outputs": [
    {
     "name": "stdout",
     "output_type": "stream",
     "text": [
      "akma\n",
      "[1, 2, 3, 4]\n",
      "akma\n",
      "{'1': (1, 2, 3, 4), '2': 'akma', '3': {'A': 'ama', 'B': 'aaaa'}}\n",
      "(1, 2, 3, 4)\n",
      "akma\n",
      "{'A': 'ama', 'B': 'aaaa'}\n",
      "ama\n",
      "aaaa\n"
     ]
    }
   ],
   "source": [
    "fun(c)"
   ]
  },
  {
   "cell_type": "code",
   "execution_count": 201,
   "metadata": {},
   "outputs": [],
   "source": [
    "d={'a':'akma','b':'ajna','c':'akma','d':[1,2,3,4]}"
   ]
  },
  {
   "cell_type": "code",
   "execution_count": 202,
   "metadata": {},
   "outputs": [],
   "source": [
    "###4\n",
    "def fun2(d):\n",
    "    \"\"\"This function calls the another function\"\"\"\n",
    "    if type(c)==dict:\n",
    "        for i in c:\n",
    "            print(c[i],len1(c[i]))"
   ]
  },
  {
   "cell_type": "code",
   "execution_count": 203,
   "metadata": {},
   "outputs": [
    {
     "name": "stdout",
     "output_type": "stream",
     "text": [
      "akma 4\n",
      "ajna 4\n",
      "akma 4\n"
     ]
    }
   ],
   "source": [
    "fun2(d)"
   ]
  },
  {
   "cell_type": "code",
   "execution_count": 208,
   "metadata": {},
   "outputs": [],
   "source": [
    "###5\n",
    "def mul(*arg):\n",
    "    l=[]\n",
    "    for i in arg:\n",
    "        l.extend(i)\n",
    "    return(l)"
   ]
  },
  {
   "cell_type": "code",
   "execution_count": 209,
   "metadata": {},
   "outputs": [
    {
     "data": {
      "text/plain": [
       "[1, 2, 3, 2, 3, 4, 'akma', 'aknma']"
      ]
     },
     "execution_count": 209,
     "metadata": {},
     "output_type": "execute_result"
    }
   ],
   "source": [
    "mul([1,2,3],[2,3,4],['akma','aknma'])"
   ]
  },
  {
   "cell_type": "code",
   "execution_count": 1,
   "metadata": {},
   "outputs": [
    {
     "data": {
      "text/plain": [
       "8"
      ]
     },
     "execution_count": 1,
     "metadata": {},
     "output_type": "execute_result"
    }
   ],
   "source": [
    "e=[1,2,3,4,5,6,6,7]\n",
    "len(e)"
   ]
  },
  {
   "cell_type": "code",
   "execution_count": 22,
   "metadata": {},
   "outputs": [],
   "source": [
    "###6\n",
    "def ind(e):\n",
    "    \"\"\"This function will return the index of the element in a list even the element is repeated\"\"\"\n",
    "    for i in range(0,len(e)):\n",
    "        print(i,e[i])"
   ]
  },
  {
   "cell_type": "code",
   "execution_count": 23,
   "metadata": {},
   "outputs": [
    {
     "name": "stdout",
     "output_type": "stream",
     "text": [
      "0 1\n",
      "1 2\n",
      "2 3\n",
      "3 4\n",
      "4 5\n",
      "5 6\n",
      "6 6\n",
      "7 7\n"
     ]
    }
   ],
   "source": [
    "ind(e)"
   ]
  },
  {
   "cell_type": "code",
   "execution_count": 24,
   "metadata": {},
   "outputs": [],
   "source": [
    "import os"
   ]
  },
  {
   "cell_type": "code",
   "execution_count": 31,
   "metadata": {},
   "outputs": [],
   "source": [
    "from os import walk"
   ]
  },
  {
   "cell_type": "code",
   "execution_count": 41,
   "metadata": {},
   "outputs": [],
   "source": [
    "f=[]\n",
    "for d,r,f in walk('/home/Documents/Python Practice/Ineuron Class'):\n",
    "    f.extend(filenames)\n",
    "    break"
   ]
  },
  {
   "cell_type": "code",
   "execution_count": null,
   "metadata": {},
   "outputs": [],
   "source": []
  },
  {
   "cell_type": "code",
   "execution_count": null,
   "metadata": {},
   "outputs": [],
   "source": []
  }
 ],
 "metadata": {
  "kernelspec": {
   "display_name": "Python 3",
   "language": "python",
   "name": "python3"
  },
  "language_info": {
   "codemirror_mode": {
    "name": "ipython",
    "version": 3
   },
   "file_extension": ".py",
   "mimetype": "text/x-python",
   "name": "python",
   "nbconvert_exporter": "python",
   "pygments_lexer": "ipython3",
   "version": "3.7.4"
  }
 },
 "nbformat": 4,
 "nbformat_minor": 2
}

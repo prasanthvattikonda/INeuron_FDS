{
 "cells": [
  {
   "cell_type": "markdown",
   "id": "9686caa6",
   "metadata": {},
   "source": [
    "### 1 What is the difference between enclosing a list comprehension in square brackets and parentheses"
   ]
  },
  {
   "cell_type": "code",
   "execution_count": 41,
   "id": "ac91071d",
   "metadata": {},
   "outputs": [
    {
     "data": {
      "text/plain": [
       "[0, 1, 2, 3, 4, 5, 6, 7, 8, 9, 10, 11, 12, 13, 14, 15, 16, 17, 18]"
      ]
     },
     "execution_count": 41,
     "metadata": {},
     "output_type": "execute_result"
    }
   ],
   "source": [
    "[i for i in range(19)]#this results in list of items \n"
   ]
  },
  {
   "cell_type": "code",
   "execution_count": 42,
   "id": "1461fc22",
   "metadata": {},
   "outputs": [
    {
     "data": {
      "text/plain": [
       "<generator object <genexpr> at 0x00000227A2A6A0B0>"
      ]
     },
     "execution_count": 42,
     "metadata": {},
     "output_type": "execute_result"
    }
   ],
   "source": [
    "(i for i in range(19))#this results in generator object "
   ]
  },
  {
   "cell_type": "markdown",
   "id": "c956508a",
   "metadata": {},
   "source": [
    "### 2 What is the relationship between generators and iterators?"
   ]
  },
  {
   "cell_type": "code",
   "execution_count": 45,
   "id": "a644717d",
   "metadata": {},
   "outputs": [
    {
     "name": "stdout",
     "output_type": "stream",
     "text": [
      "p\n",
      "r\n",
      "a\n",
      "s\n",
      "a\n",
      "n\n",
      "t\n",
      "h\n"
     ]
    },
    {
     "ename": "TypeError",
     "evalue": "'int' object is not iterable",
     "output_type": "error",
     "traceback": [
      "\u001b[1;31m---------------------------------------------------------------------------\u001b[0m",
      "\u001b[1;31mTypeError\u001b[0m                                 Traceback (most recent call last)",
      "\u001b[1;32mC:\\Users\\PRASAN~1\\AppData\\Local\\Temp/ipykernel_19848/3875803193.py\u001b[0m in \u001b[0;36m<module>\u001b[1;34m\u001b[0m\n\u001b[0;32m      4\u001b[0m \u001b[1;32mfor\u001b[0m \u001b[0mi\u001b[0m \u001b[1;32min\u001b[0m \u001b[0ms\u001b[0m\u001b[1;33m:\u001b[0m\u001b[1;33m\u001b[0m\u001b[1;33m\u001b[0m\u001b[0m\n\u001b[0;32m      5\u001b[0m     \u001b[0mprint\u001b[0m\u001b[1;33m(\u001b[0m\u001b[0mi\u001b[0m\u001b[1;33m)\u001b[0m\u001b[1;33m\u001b[0m\u001b[1;33m\u001b[0m\u001b[0m\n\u001b[1;32m----> 6\u001b[1;33m \u001b[1;32mfor\u001b[0m \u001b[0mj\u001b[0m \u001b[1;32min\u001b[0m \u001b[0mn\u001b[0m\u001b[1;33m:\u001b[0m\u001b[1;33m\u001b[0m\u001b[1;33m\u001b[0m\u001b[0m\n\u001b[0m\u001b[0;32m      7\u001b[0m     \u001b[0mprint\u001b[0m\u001b[1;33m(\u001b[0m\u001b[0mj\u001b[0m\u001b[1;33m)\u001b[0m\u001b[1;33m\u001b[0m\u001b[1;33m\u001b[0m\u001b[0m\n",
      "\u001b[1;31mTypeError\u001b[0m: 'int' object is not iterable"
     ]
    }
   ],
   "source": [
    "#Iterators\n",
    "#any object which is iterable can be an iterator, we can do this convertion using the function iter()\n",
    "s='prasanth'\n",
    "n=10\n",
    "for i in s:\n",
    "    print(i)\n",
    "for j in n:\n",
    "    print(j)\n",
    "#so in this case, s is an interable object which is also an iterator by using the iter() function\n",
    "# n is not an iterator , because it is not an iterable object\n",
    "# an object which is iterable means, we can able to extract or access the each and every element from in it. So in the cass of n , it is not possible"
   ]
  },
  {
   "cell_type": "code",
   "execution_count": 54,
   "id": "62d9104d",
   "metadata": {},
   "outputs": [
    {
     "data": {
      "text/plain": [
       "<generator object test at 0x00000227A2A6A820>"
      ]
     },
     "execution_count": 54,
     "metadata": {},
     "output_type": "execute_result"
    }
   ],
   "source": [
    "#generators\n",
    "#the functions which will return the all its values, without any itereption or slowness in the loop during the iteration process \n",
    "def test(n):\n",
    "    for i in range(n):\n",
    "        yield i*3\n",
    "        \n",
    "test(600000)\n",
    "#in this case, we can generate the any high computation values using the key yield."
   ]
  },
  {
   "cell_type": "markdown",
   "id": "4dbb4810",
   "metadata": {},
   "source": [
    "### 3 What are the signs that a function is a generator function?"
   ]
  },
  {
   "cell_type": "code",
   "execution_count": null,
   "id": "1f284189",
   "metadata": {},
   "outputs": [],
   "source": [
    "# a generator function always doesn't produce the results directly.It will results in object form like above example unless we listing them\n",
    "#generator function has the key called yield, which memorizes the location and produce the values during the runtime."
   ]
  },
  {
   "cell_type": "markdown",
   "id": "9b6acf46",
   "metadata": {},
   "source": [
    "### 4 What is the purpose of a yield statement"
   ]
  },
  {
   "cell_type": "code",
   "execution_count": null,
   "id": "c240b2f5",
   "metadata": {},
   "outputs": [],
   "source": [
    "#Yield statement gives the flexible to produce the values of loop during the runtime, unlike waiting till the entire loop completes\n",
    "#which will results in generator function to results in less computational power"
   ]
  },
  {
   "cell_type": "markdown",
   "id": "81ac6776",
   "metadata": {},
   "source": [
    "### 5 What is the relationship between map calls and list comprehensions? Make a comparison and contrast between the two"
   ]
  },
  {
   "cell_type": "code",
   "execution_count": 118,
   "id": "c2748cfe",
   "metadata": {},
   "outputs": [],
   "source": [
    "#Map function will be used only when we want to perform the same operation to all the elements of a iterable object (list , tuple etc.,)\n",
    "#Map expecation is function which does the operation and an iterable object \n",
    "#it results in object form\n",
    "def test1(n):\n",
    "        return n*3"
   ]
  },
  {
   "cell_type": "code",
   "execution_count": 119,
   "id": "4186186e",
   "metadata": {},
   "outputs": [],
   "source": [
    "l=[1,2,3,4,5,6]\n",
    "x=map(test1,l)"
   ]
  },
  {
   "cell_type": "code",
   "execution_count": 120,
   "id": "38582037",
   "metadata": {},
   "outputs": [
    {
     "data": {
      "text/plain": [
       "[3, 6, 9, 12, 15, 18]"
      ]
     },
     "execution_count": 120,
     "metadata": {},
     "output_type": "execute_result"
    }
   ],
   "source": [
    "list(x)"
   ]
  },
  {
   "cell_type": "code",
   "execution_count": 87,
   "id": "c3f94f50",
   "metadata": {},
   "outputs": [
    {
     "data": {
      "text/plain": [
       "[0, 6, 12, 18, 24]"
      ]
     },
     "execution_count": 87,
     "metadata": {},
     "output_type": "execute_result"
    }
   ],
   "source": [
    "#list comprehensions is a concise way of creating lists\n",
    "[i*3 for i in range(10) if i%2==0]"
   ]
  },
  {
   "cell_type": "code",
   "execution_count": 121,
   "id": "8cd3240d",
   "metadata": {},
   "outputs": [],
   "source": [
    "#LIST comprehension is more concise than map\n",
    "#map functionality is very limited , where we cannot perform filters realated if cond\n",
    "#map functions takes the iterable objects and results in the object only \n",
    "#list comprehension will results in the form of list of elements\n",
    "#maps compuatation is very less than list comprehension "
   ]
  },
  {
   "cell_type": "code",
   "execution_count": null,
   "id": "9172ec13",
   "metadata": {},
   "outputs": [],
   "source": []
  }
 ],
 "metadata": {
  "kernelspec": {
   "display_name": "Python 3 (ipykernel)",
   "language": "python",
   "name": "python3"
  },
  "language_info": {
   "codemirror_mode": {
    "name": "ipython",
    "version": 3
   },
   "file_extension": ".py",
   "mimetype": "text/x-python",
   "name": "python",
   "nbconvert_exporter": "python",
   "pygments_lexer": "ipython3",
   "version": "3.9.7"
  }
 },
 "nbformat": 4,
 "nbformat_minor": 5
}

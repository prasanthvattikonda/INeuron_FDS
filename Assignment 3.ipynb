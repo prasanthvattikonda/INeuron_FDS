{
 "cells": [
  {
   "cell_type": "markdown",
   "metadata": {},
   "source": [
    "## 1 Why are functions advantageous to have in your programs?\n",
    "\n",
    "The main advantage of function in python program are code reusability. \n",
    "It will reduce the size of the program and duplication of code. \n",
    "It look very shorter and easier execute the program."
   ]
  },
  {
   "cell_type": "markdown",
   "metadata": {},
   "source": [
    "## 2 When does the code in a function run: when it's specified or when it's called?\n",
    "\n",
    "The code inside the function will run , when its called."
   ]
  },
  {
   "cell_type": "markdown",
   "metadata": {},
   "source": [
    "## 3 What statement creates a function?\n",
    "\n",
    "def is the key/statement which is used to create a new function in program"
   ]
  },
  {
   "cell_type": "markdown",
   "metadata": {},
   "source": [
    "## 4 What is the difference between a function and a function call?\n",
    "\n",
    ".function is the place where we create it, by writing the code inside it which specifies what needs to perform by the function. \n",
    ".function call the place where we call the function which has been already created in the program. The code inside the function will run during this period."
   ]
  },
  {
   "cell_type": "markdown",
   "metadata": {},
   "source": [
    "## 5 How many global scopes are there in a Python program? How many local scopes?\n",
    "There will be only one global scope in pytho program, the place outside the all the functions is considered to be global scope. The variable which is defined inside global scope is global varaible\n",
    "Local scope will be inside the any function. Number of local scope will depends on how many number function that we define in python program. The variable which defined inside the local scope is called local variable."
   ]
  },
  {
   "cell_type": "markdown",
   "metadata": {},
   "source": [
    "## 6 What happens to variables in a local scope when the function call returns?\n",
    "The local variable which declared inside a function will be executed and removed afthe the function is terminated. \n",
    "So, local varibale inside the one particular local scope/function cannot be used in any other local scope/function in the program"
   ]
  },
  {
   "cell_type": "markdown",
   "metadata": {},
   "source": [
    "## 7 What is the concept of a return value? Is it possible to have a return value in an expression?\n",
    "\n",
    "return statement used in the function , which will results the task performed by the function. The type of return is int,handle and string or objcct.\n",
    "Yes, it is not Nontype. It can be used in any of the follwed experession of that function in the program\n"
   ]
  },
  {
   "cell_type": "markdown",
   "metadata": {},
   "source": [
    "## 8 If a function does not have a return statement, what is the return value of a call to that function?\n",
    "It results nothing. This function is undefined. The control reaches the function end, it returns nothing."
   ]
  },
  {
   "cell_type": "code",
   "execution_count": 11,
   "metadata": {},
   "outputs": [],
   "source": [
    "def test1(a):\n",
    "    for i in a:\n",
    "        i**2"
   ]
  },
  {
   "cell_type": "code",
   "execution_count": 12,
   "metadata": {},
   "outputs": [],
   "source": [
    "test1([1,2,3])"
   ]
  },
  {
   "cell_type": "markdown",
   "metadata": {},
   "source": [
    "## 9 How do you make a function variable refer to the global variable?"
   ]
  },
  {
   "cell_type": "code",
   "execution_count": 29,
   "metadata": {},
   "outputs": [],
   "source": [
    "a=0 #global variable\n",
    "def test2(x,y): #local scope started\n",
    "    m=1 #m is local vraiable\n",
    "    z=(x+y+m)*a #using global vraible\n",
    "    return z #local scope ended "
   ]
  },
  {
   "cell_type": "code",
   "execution_count": 31,
   "metadata": {},
   "outputs": [
    {
     "data": {
      "text/plain": [
       "0"
      ]
     },
     "execution_count": 31,
     "metadata": {},
     "output_type": "execute_result"
    }
   ],
   "source": [
    "test2(1,2) #function call"
   ]
  },
  {
   "cell_type": "markdown",
   "metadata": {},
   "source": [
    "## 10 What is the data type of None?\n",
    " data type of None cannoted used in any expression. print() statement produces the value with data type Nonetype"
   ]
  },
  {
   "cell_type": "markdown",
   "metadata": {},
   "source": [
    "## 11 What does the sentence import areallyourpetsnamederic do\n",
    "\n",
    "import statement import the module name areallyourpetsnamederic\n",
    "if the module is not available in python , it through error"
   ]
  },
  {
   "cell_type": "code",
   "execution_count": 32,
   "metadata": {
    "scrolled": false
   },
   "outputs": [
    {
     "ename": "ModuleNotFoundError",
     "evalue": "No module named 'areallyourpetsnamederic'",
     "output_type": "error",
     "traceback": [
      "\u001b[1;31m---------------------------------------------------------------------------\u001b[0m",
      "\u001b[1;31mModuleNotFoundError\u001b[0m                       Traceback (most recent call last)",
      "\u001b[1;32m<ipython-input-32-bc0a7cc000f7>\u001b[0m in \u001b[0;36m<module>\u001b[1;34m\u001b[0m\n\u001b[1;32m----> 1\u001b[1;33m \u001b[1;32mimport\u001b[0m \u001b[0mareallyourpetsnamederic\u001b[0m\u001b[1;33m\u001b[0m\u001b[1;33m\u001b[0m\u001b[0m\n\u001b[0m",
      "\u001b[1;31mModuleNotFoundError\u001b[0m: No module named 'areallyourpetsnamederic'"
     ]
    }
   ],
   "source": [
    "import areallyourpetsnamederic"
   ]
  },
  {
   "cell_type": "markdown",
   "metadata": {},
   "source": [
    "## 12 If you had a bacon() feature in a spam module, what would you call it after importing spam"
   ]
  },
  {
   "cell_type": "code",
   "execution_count": null,
   "metadata": {},
   "outputs": [],
   "source": [
    "import spam\n",
    "spam.bacon()"
   ]
  },
  {
   "cell_type": "markdown",
   "metadata": {},
   "source": [
    "## 13 What can you do to save a programme from crashing if it encounters an error"
   ]
  },
  {
   "cell_type": "markdown",
   "metadata": {},
   "source": [
    "It is better to display the error to avoid the crashing of the programme. So that, we can save the time by debugging errors "
   ]
  },
  {
   "cell_type": "code",
   "execution_count": null,
   "metadata": {},
   "outputs": [],
   "source": []
  }
 ],
 "metadata": {
  "kernelspec": {
   "display_name": "Python 3",
   "language": "python",
   "name": "python3"
  },
  "language_info": {
   "codemirror_mode": {
    "name": "ipython",
    "version": 3
   },
   "file_extension": ".py",
   "mimetype": "text/x-python",
   "name": "python",
   "nbconvert_exporter": "python",
   "pygments_lexer": "ipython3",
   "version": "3.7.4"
  }
 },
 "nbformat": 4,
 "nbformat_minor": 2
}
